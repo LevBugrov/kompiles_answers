{
 "cells": [
  {
   "cell_type": "code",
   "execution_count": 16,
   "metadata": {},
   "outputs": [],
   "source": [
    "import pytesseract\n",
    "import cv2\n",
    "import matplotlib.pyplot as plt\n",
    "from PIL import Image\n",
    "import os\n",
    "\n",
    "from os import listdir\n",
    "from os.path import isfile, join"
   ]
  },
  {
   "cell_type": "code",
   "execution_count": 17,
   "metadata": {},
   "outputs": [],
   "source": [
    "pytesseract.pytesseract.tesseract_cmd = r'C:\\Users\\arkad\\AppData\\Local\\Programs\\Tesseract-OCR\\tesseract.exe'\n",
    "name_img =\"1.jpg\"\n",
    "preprocess = \"thresh\"\n",
    "img_path = \"img/\" + name_img\n",
    "\n",
    "x, w = 200, 1600\n",
    "y, h = 85, 900\n",
    "\n",
    "onlyfiles = [f for f in listdir(\"img\") if isfile(join(\"img\", f))]\n",
    "\n",
    "for i in onlyfiles:\n",
    "    image = cv2.imread(\"img/\"+i)\n",
    "\n",
    "    crop = image[y:y+h, x:x+w]\n",
    "    cv2.imwrite(r\"img_crop/\"+i, crop)\n",
    "\n",
    "\n",
    "    gray = cv2.cvtColor(crop, cv2.COLOR_BGR2GRAY)\n",
    "    # проверьте, следует ли применять пороговое значение для предварительной обработки изображения\n",
    "\n",
    "    if preprocess == \"thresh\":\n",
    "        gray = cv2.threshold(gray, 0, 255,\n",
    "        cv2.THRESH_BINARY | cv2.THRESH_OTSU)[1]\n",
    "        # если нужно медианное размытие, чтобы удалить шум\n",
    "    elif preprocess == \"blur\":\n",
    "        gray = cv2.medianBlur(gray, 3) \n",
    "        # сохраним временную картинку в оттенках серого, чтобы можно было применить к ней OCR\n",
    "\t \n",
    "    filename = \"{}.png\".format(os.getpid())\n",
    "    cv2.imwrite(filename, gray)\n",
    "\n",
    "    text = pytesseract.image_to_string(Image.open(filename))\n",
    "    os.remove(filename)\n",
    "    #print(text)\n",
    "    with open(r\"text_from_img/\"+i[:-4]+\".txt\", \"w\", encoding=\"utf-8\") as text_file:\n",
    "        text_file.write(text.lower())"
   ]
  },
  {
   "cell_type": "code",
   "execution_count": null,
   "metadata": {},
   "outputs": [],
   "source": []
  }
 ],
 "metadata": {
  "interpreter": {
   "hash": "c7d2c75bbb39c691a3c9e7a5bd4125ab3597400113b914f1267b7c79a1c00de9"
  },
  "kernelspec": {
   "display_name": "Python 3.10.1 ('answ': venv)",
   "language": "python",
   "name": "python3"
  },
  "language_info": {
   "codemirror_mode": {
    "name": "ipython",
    "version": 3
   },
   "file_extension": ".py",
   "mimetype": "text/x-python",
   "name": "python",
   "nbconvert_exporter": "python",
   "pygments_lexer": "ipython3",
   "version": "3.10.1"
  },
  "orig_nbformat": 4
 },
 "nbformat": 4,
 "nbformat_minor": 2
}
